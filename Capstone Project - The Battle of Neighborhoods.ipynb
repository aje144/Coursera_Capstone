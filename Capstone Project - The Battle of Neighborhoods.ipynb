{
    "cells": [
        {
            "cell_type": "markdown",
            "metadata": {
                "collapsed": true
            },
            "source": "# Data Science Capstone Project - Battle of the Neighbourhoods\n### Applied Data Capstone Project By IBM/Coursera\nWritten by Andy Edser 08/02/2020\n\n## Table of Contents\n- Introduction\n- Data\n- Methodology\n- Results \n- Discussion \n- Conclusion \n\n## Introduction\ndiscuss the business problem and who would be interested in this project.\n\nDuring the last year of the COVID-19 pandemic the UK has been in various states of lockdowns and travel restrictions. This has meant that many traditional venues for socialising and exercising such as restaurants and gyms have been closed and unavailable for large parts of the year. Due to this, local access to public outdoor facilities and areas such as parks has been at a premium for socially distanced meetups and exercise.\n\nDuring this year I had to move house. I went from Leamington Spa, Warwickshire and moved north back to my home city of Leeds, West Yorkshire and as a result I have witnessed restrictions in both areas. For my capstone project I will be exploring the access I have had to local outdoor facilities in both areas I have lived this year before exploring the city of Leeds as a whole and identifying which areas have the best access to local outdoor facilities.  \n\n## Data\nThis problem has been divided into two parts. For both I will consider the following:\n- For area I will consider the postcode and its geographical centre by Latitude and Longitude\n    - For problem 1 I will use the specific postcodes for each compared area which is known to me\n    - For problem 2 I will use postcode data for the entire Leeds area found here: https://en.wikipedia.org/wiki/LS_postcode_area\n    - Latitude and Longitude will be retrieved using the Geocoder python package\n- I will then use the foursquare API to discover local venues for all of the postcodes\n    - Due to restrictions on travel and an encouragement to not drive in the last year I am defining 'Local' as within a 15 minute walk or according to my fitbit approximately 1.5km!\n"
        },
        {
            "cell_type": "markdown",
            "metadata": {},
            "source": "## Methodology\nWIP\nrepresents the main component of the report, discuss and describe any exploratory data analysis, any inferential statistical testing, if any, and what machine learnings were used and why."
        },
        {
            "cell_type": "markdown",
            "metadata": {},
            "source": "## Results\ndiscuss the results."
        },
        {
            "cell_type": "markdown",
            "metadata": {},
            "source": "## Discussion\ndiscuss any observations you noted and any recommendations you can make based on the results."
        },
        {
            "cell_type": "markdown",
            "metadata": {},
            "source": "## Conclusion\nconclude the report"
        },
        {
            "cell_type": "code",
            "execution_count": null,
            "metadata": {},
            "outputs": [],
            "source": ""
        }
    ],
    "metadata": {
        "kernelspec": {
            "display_name": "Python 3.7",
            "language": "python",
            "name": "python3"
        },
        "language_info": {
            "codemirror_mode": {
                "name": "ipython",
                "version": 3
            },
            "file_extension": ".py",
            "mimetype": "text/x-python",
            "name": "python",
            "nbconvert_exporter": "python",
            "pygments_lexer": "ipython3",
            "version": "3.7.9"
        }
    },
    "nbformat": 4,
    "nbformat_minor": 1
}